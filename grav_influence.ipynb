{
 "cells": [
  {
   "cell_type": "code",
   "execution_count": 3,
   "id": "f313f0af",
   "metadata": {},
   "outputs": [],
   "source": [
    "import numpy as np\n",
    "import matplotlib.pyplot as plt\n",
    "import read_orbits"
   ]
  },
  {
   "cell_type": "code",
   "execution_count": 4,
   "id": "42e2897d",
   "metadata": {},
   "outputs": [],
   "source": [
    "# Global constants\n",
    "\n",
    "# Everything in solar masses, AU, year\n",
    "\n",
    "AU = 149.6e6 * 1000 # Astronomical Unit in meters.\n",
    "DAY = 24*3600. # Day in seconds\n",
    "YEAR = 365.25*DAY #Year\n",
    "delta_time = (0.5/24.) # 2 hours\n",
    "MSUN = 1.9885e+30\n",
    "MEARTH = 5.9724e+24\n",
    "G = 6.67428e-11/AU**3*MSUN*YEAR**2"
   ]
  },
  {
   "cell_type": "code",
   "execution_count": null,
   "id": "63216822",
   "metadata": {},
   "outputs": [],
   "source": [
    "nplanets = 1\n",
    "data = read_orbits.main(nplanets=nplanets, path='./planets_data/')\n"
   ]
  },
  {
   "cell_type": "code",
   "execution_count": 5,
   "id": "d8078ab0",
   "metadata": {},
   "outputs": [
    {
     "name": "stdout",
     "output_type": "stream",
     "text": [
      "Reading data in Solar System barycenter reference frame\n",
      "Reading data for mercury\n"
     ]
    }
   ],
   "source": [
    "#data, masses, names = read_orbits.main(nplanets=nplanets, frame='b', use_moons=True, path='./planets_data/',)\n",
    "#data, masses, names = read_orbits.main(nplanets=nplanets, path='./planets_data/')\n",
    "data.set_num_timesteps()\n",
    "\n",
    "masses = data.get_masses()\n",
    "names = data.get_names()\n",
    "masses /= masses[0] # normalize all masses by the mass of the sun?\n",
    "#nplanets = len(data[0])\n",
    "#nedges = nplanets*(nplanets-1)//2\n",
    "nplanets = data.numPlanets\n",
    "nedges = data.numEdges\n"
   ]
  },
  {
   "cell_type": "code",
   "execution_count": 6,
   "id": "2771a0a7",
   "metadata": {},
   "outputs": [],
   "source": [
    "def force_newton_norm(x, m1, m2):\n",
    "    return G*m1*m2/np.linalg.norm(x, axis = -1, keepdims=False)**2\n",
    "\n",
    "def grav_energy(x, m1, m2):\n",
    "    return G*m1*m2/np.linalg.norm(x, axis = -1, keepdims=False)"
   ]
  },
  {
   "cell_type": "code",
   "execution_count": 7,
   "id": "0867fa81",
   "metadata": {},
   "outputs": [
    {
     "ename": "TypeError",
     "evalue": "'StarSystem' object is not subscriptable",
     "output_type": "error",
     "traceback": [
      "\u001b[0;31m---------------------------------------------------------------------------\u001b[0m",
      "\u001b[0;31mTypeError\u001b[0m                                 Traceback (most recent call last)",
      "Cell \u001b[0;32mIn[7], line 6\u001b[0m\n\u001b[1;32m      4\u001b[0m \u001b[38;5;28;01mfor\u001b[39;00m j \u001b[38;5;129;01min\u001b[39;00m \u001b[38;5;28mrange\u001b[39m(nplanets):\n\u001b[1;32m      5\u001b[0m     \u001b[38;5;28;01mif\u001b[39;00m i \u001b[38;5;241m!=\u001b[39m j:\n\u001b[0;32m----> 6\u001b[0m         d \u001b[38;5;241m=\u001b[39m \u001b[43mdata\u001b[49m\u001b[43m[\u001b[49m\u001b[43m:\u001b[49m\u001b[43m,\u001b[49m\u001b[43mj\u001b[49m\u001b[43m,\u001b[49m\u001b[43m:\u001b[49m\u001b[38;5;241;43m3\u001b[39;49m\u001b[43m]\u001b[49m \u001b[38;5;241m-\u001b[39m data[:,i,:\u001b[38;5;241m3\u001b[39m]\n\u001b[1;32m      7\u001b[0m         f \u001b[38;5;241m=\u001b[39m force_newton_norm(d, masses[i], masses[j])\n\u001b[1;32m      8\u001b[0m         e \u001b[38;5;241m=\u001b[39m grav_energy(d, masses[i], masses[j])\u001b[38;5;241m/\u001b[39mmasses[j]\n",
      "\u001b[0;31mTypeError\u001b[0m: 'StarSystem' object is not subscriptable"
     ]
    }
   ],
   "source": [
    "Fsum = np.zeros([data.get_num_timesteps(), nplanets])\n",
    "Esum = np.zeros([data.get_num_timesteps(), nplanets])\n",
    "for i in range(nplanets):\n",
    "    for j in range(nplanets):\n",
    "        if i != j:\n",
    "            d = data[:,j,:3] - data[:,i,:3]\n",
    "            f = force_newton_norm(d, masses[i], masses[j])\n",
    "            e = grav_energy(d, masses[i], masses[j])/masses[j]\n",
    "            Fsum[:,i] += f\n",
    "            Esum[:,i] += e\n"
   ]
  },
  {
   "cell_type": "code",
   "execution_count": 30,
   "id": "a51094fd",
   "metadata": {},
   "outputs": [],
   "source": [
    "ff = np.mean(Fsum, axis = 0)\n",
    "ee = np.mean(Esum, axis = 0)"
   ]
  },
  {
   "cell_type": "code",
   "execution_count": 33,
   "id": "62bba0c9",
   "metadata": {},
   "outputs": [],
   "source": [
    "np.save('./saved_models/summed_forces', ff)\n",
    "np.save('./saved_models/summed_potentials', ee)"
   ]
  }
 ],
 "metadata": {
  "kernelspec": {
   "display_name": "orbit",
   "language": "python",
   "name": "python3"
  },
  "language_info": {
   "codemirror_mode": {
    "name": "ipython",
    "version": 3
   },
   "file_extension": ".py",
   "mimetype": "text/x-python",
   "name": "python",
   "nbconvert_exporter": "python",
   "pygments_lexer": "ipython3",
   "version": "3.12.3"
  }
 },
 "nbformat": 4,
 "nbformat_minor": 5
}
